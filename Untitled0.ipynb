{
  "nbformat": 4,
  "nbformat_minor": 0,
  "metadata": {
    "colab": {
      "provenance": [],
      "authorship_tag": "ABX9TyM2Oxt8VMtopKpZUcln1AOe",
      "include_colab_link": true
    },
    "kernelspec": {
      "name": "python3",
      "display_name": "Python 3"
    },
    "language_info": {
      "name": "python"
    }
  },
  "cells": [
    {
      "cell_type": "markdown",
      "metadata": {
        "id": "view-in-github",
        "colab_type": "text"
      },
      "source": [
        "<a href=\"https://colab.research.google.com/github/Riteshbaranwal01/Assignment-1/blob/Adarsh-Gupta_branch/Untitled0.ipynb\" target=\"_parent\"><img src=\"https://colab.research.google.com/assets/colab-badge.svg\" alt=\"Open In Colab\"/></a>"
      ]
    },
    {
      "cell_type": "code",
      "execution_count": 1,
      "metadata": {
        "id": "NIfsq-LDMrog",
        "colab": {
          "base_uri": "https://localhost:8080/"
        },
        "outputId": "7bf48456-5263-4bd3-cc87-1fed20805ed5"
      },
      "outputs": [
        {
          "output_type": "stream",
          "name": "stdout",
          "text": [
            "Enter a number: 2\n",
            "The number is a prime number 2\n"
          ]
        }
      ],
      "source": [
        "\n",
        "# Write a Python program to check whether a given number is Prime or not.\n",
        "\n",
        "a = int(input(\"Enter a number: \"))\n",
        "\n",
        "if a <= 1:\n",
        "    print(\"The number is not a prime number\",a)\n",
        "else:\n",
        "    for i in range(2, a):\n",
        "        if a % i == 0:\n",
        "            print(\"The number is not a prime number\",a)\n",
        "            break\n",
        "    else:\n",
        "        print(\"The number is a prime number\",a)\n",
        "\n",
        "  # Coding Complete."
      ]
    }
  ]
}