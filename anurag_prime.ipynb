{
  "nbformat": 4,
  "nbformat_minor": 0,
  "metadata": {
    "colab": {
      "provenance": [],
      "authorship_tag": "ABX9TyOWR5bSsacHLUSGP7ZLtNsw",
      "include_colab_link": true
    },
    "kernelspec": {
      "name": "python3",
      "display_name": "Python 3"
    },
    "language_info": {
      "name": "python"
    }
  },
  "cells": [
    {
      "cell_type": "markdown",
      "metadata": {
        "id": "view-in-github",
        "colab_type": "text"
      },
      "source": [
        "<a href=\"https://colab.research.google.com/github/Riteshbaranwal01/Assignment-1/blob/anurag-branch/anurag_prime.ipynb\" target=\"_parent\"><img src=\"https://colab.research.google.com/assets/colab-badge.svg\" alt=\"Open In Colab\"/></a>"
      ]
    },
    {
      "cell_type": "code",
      "source": [
        "# Program to check number is prime or not\n",
        "\n",
        "num = int(input (\"Enter a num\"))\n",
        "\n",
        "if num == 0 or num == 1:\n",
        "    print(num, \"is not a prime number\")\n",
        "elif num > 1:\n",
        "   # check for factors\n",
        "   for i in range(2,num):\n",
        "       if (num % i) == 0:\n",
        "           print(num,\"is not a prime number\")\n",
        "           print(i,\"times\",num//i,\"is\",num)\n",
        "           break\n",
        "   else:\n",
        "       print(num,\"is a prime number\")"
      ],
      "metadata": {
        "colab": {
          "base_uri": "https://localhost:8080/"
        },
        "id": "uhJcqaDKiErC",
        "outputId": "bc7ba37f-9908-4451-a3a4-debdc1d4deea"
      },
      "execution_count": null,
      "outputs": [
        {
          "output_type": "stream",
          "name": "stdout",
          "text": [
            "Enter a num17\n",
            "17 is a prime number\n"
          ]
        }
      ]
    }
  ]
}