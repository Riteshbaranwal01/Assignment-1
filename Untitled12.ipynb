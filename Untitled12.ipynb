{
  "nbformat": 4,
  "nbformat_minor": 0,
  "metadata": {
    "colab": {
      "provenance": [],
      "authorship_tag": "ABX9TyM3/fM1D+GdVhJ06zxa60pT",
      "include_colab_link": true
    },
    "kernelspec": {
      "name": "python3",
      "display_name": "Python 3"
    },
    "language_info": {
      "name": "python"
    }
  },
  "cells": [
    {
      "cell_type": "markdown",
      "metadata": {
        "id": "view-in-github",
        "colab_type": "text"
      },
      "source": [
        "<a href=\"https://colab.research.google.com/github/Riteshbaranwal01/Assignment-1/blob/Ankit-Tiwari-_ece/Untitled12.ipynb\" target=\"_parent\"><img src=\"https://colab.research.google.com/assets/colab-badge.svg\" alt=\"Open In Colab\"/></a>"
      ]
    },
    {
      "cell_type": "code",
      "execution_count": null,
      "metadata": {
        "colab": {
          "base_uri": "https://localhost:8080/"
        },
        "id": "aYGzp1tkiw5S",
        "outputId": "ad066e02-8aee-4aa5-ddf0-f530ffeeb352"
      },
      "outputs": [
        {
          "output_type": "stream",
          "name": "stdout",
          "text": [
            "Enter a number: 2\n",
            "The number is a prime number 2\n"
          ]
        }
      ],
      "source": [
        "\n",
        "# Write a Python program to check whether a given number is Prime or not.\n",
        "\n",
        "a = int(input(\"Enter a number: \"))\n",
        "\n",
        "if a <= 1:\n",
        "    print(\"The number is not a prime number\",a)\n",
        "else:\n",
        "    for i in range(2, a):\n",
        "        if a % i == 0:\n",
        "            print(\"The number is not a prime number\",a)\n",
        "            break\n",
        "    else:\n",
        "        print(\"The number is a prime number\",a)\n",
        "\n",
        "  # Coding Complete."
      ]
    }
  ]
}